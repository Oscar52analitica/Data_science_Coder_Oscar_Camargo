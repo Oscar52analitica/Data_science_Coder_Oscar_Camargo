{
  "nbformat": 4,
  "nbformat_minor": 0,
  "metadata": {
    "colab": {
      "provenance": [],
      "authorship_tag": "ABX9TyO72figVzf9Wh5CkERDMHKM",
      "include_colab_link": true
    },
    "kernelspec": {
      "name": "python3",
      "display_name": "Python 3"
    },
    "language_info": {
      "name": "python"
    }
  },
  "cells": [
    {
      "cell_type": "markdown",
      "metadata": {
        "id": "view-in-github",
        "colab_type": "text"
      },
      "source": [
        "<a href=\"https://colab.research.google.com/github/Oscar52analitica/Data_science_Coder_Oscar_Camargo/blob/main/ProyectoDS_Camargo_Oscar.ipynb\" target=\"_parent\"><img src=\"https://colab.research.google.com/assets/colab-badge.svg\" alt=\"Open In Colab\"/></a>"
      ]
    },
    {
      "cell_type": "markdown",
      "source": [
        "# Pre entrega n°1 - Oscar Orlando Camrgo Vargas\n",
        "\n",
        "1.   Elemento de la lista\n",
        "2.   Elemento de la lista\n",
        "\n",
        "\n",
        "## Análisis de impacto del precio de fabricaicón de diferentes modelos de autos según su año de fabricación: Estudio de Datos"
      ],
      "metadata": {
        "id": "SlpeMOEkxiFa"
      }
    },
    {
      "cell_type": "markdown",
      "source": [
        "## ABSTRACT\n",
        "\n",
        "### Resumen:\n",
        "#### Este proyecto se centra en el análisis  de los datos el csv Cars_Database, examinando diversas características como:\n",
        "- Precio.\n",
        "- Año de Fabricación.\n",
        "- Tamaño de Motor.\n",
        "- Consumo por millas.\n",
        "- Millaje.\n",
        "- Gasto de combustible.\n",
        "\n",
        " ###  Hipótesis de interés:\n",
        "#### Basándonos en un análisis previo del dataset, planteamos las siguientes\n",
        "\n",
        "### hipótesis:\n",
        "- Relación entre año y precio: ¿Cómo afecta el año de fabricación al precio de los automóviles? Hipótesis: Los autos más nuevos tienden a ser más caros.\n",
        "- Impacto de la transmisión en el precio: ¿Es la transmisión automática más cara que la manual?\n",
        "- Influencia del tipo de combustible: ¿Los autos que utilizan combustible más eficiente tienen un precio más alto?\n",
        "- Costo por milla vs. Años de circulación: ¿Los autos que han circulado más años tienen un costo por milla más bajo?\n",
        "- Se iniciara conociendo valores estadisticos que permiten conocer medidas para generar graficos y analisis que generen la respuesta de la hipotesis y las preguntas de interes planteadas\n",
        "  ### Objetivos:\n",
        "\n",
        "- Validar las hipótesis formuladas a través de análisis estadísticos y representaciones gráficas.\n",
        "- Descubrir patrones y tendencias dentro del conjunto de datos.\n",
        "- Crear un modelo predictivo para calcular la relación entre el año de fabriación de un auto y su precio.\n",
        "\n",
        "### Impacto:\n",
        "#### Los resultados de este estudio permitirán:\n",
        "\n",
        "- Determinar los factores que influyen en el precio de un vehiculo.\n",
        "- Crear informes para la toma de desiciones a la hora de la compra de un vehiculo si es mas combeniente uno sobre otro analisando diferentes variables.\n",
        "- Construir un modelo que permita comparar diferentes variables a una persona a fin de simplificar conceptos y predecir cual vehiculo es mas combeniente para difernetes presupuestos."
      ],
      "metadata": {
        "id": "9YIrUPf8CCfl"
      }
    },
    {
      "cell_type": "markdown",
      "source": [
        "## Contenido de el Csv\n",
        "\n",
        "- El file continene 15 Columnas distribuidas de la siguiente manera:\n",
        "-Primiry_key: lLave que permite identificar cada resgitro unico segun marca del auto.\n",
        "-Model: Modelo del auto segun su fabricante.\n",
        "-Year: Año de Fabricacion.\n",
        "-Price: Precio de venta del auto.\n",
        "- transmission: Tipo de transmision del vehiculo(Automatica, manual, semi automatica)\n",
        "- Millage: Cantidad de millas que tienen el motor del vehiculo a la fecha.\n",
        "- FuelType: Tipo de Combustile(Gasolina, Diesel, Electrico, Hibrido,Gas)\n",
        "-Tax: Impuesto que paga el vehiculo.\n",
        "-Mpg: Consumo de galon de combustible por milla de desplazamineto.\n",
        "-engineSize: Tamaño del motor del vehiculo.\n",
        "- Make: Fabricante del vehiculo( Audi, BMW, ETC.)\n",
        "- Años de circulacion: Años de circulacion del vehiculo a la fecha.\n",
        "- Costo por milla: Precio de combistible segun el millage del vehiculo.\n",
        "-Consumo de combustible por año(Millas por galon): Consumo anual de combustible del vehiculo segun los datos registrados en la BD.\n",
        "Tax_Bracket: Rango de impuestos segun categorias(Alto, Medio, Bajo)\n"
      ],
      "metadata": {
        "id": "Npc4thnOX6oT"
      }
    },
    {
      "cell_type": "markdown",
      "source": [
        "Importación de librerias"
      ],
      "metadata": {
        "id": "7FsRnbgBx2sg"
      }
    },
    {
      "cell_type": "code",
      "source": [
        "# Manipulación de datos y operaciones numéricas\n",
        "\n",
        "import pandas as pd  # Manejo de datos en formato tabular (DataFrames)\n",
        "import numpy as np  # Operaciones numéricas y manejo de arrays\n",
        "\n",
        "# Visualización de datos\n",
        "import matplotlib.pyplot as plt  # Creación de gráficos y visualizaciones básicas\n",
        "import seaborn as sns  # Visualización avanzada, basada en matplotlib con temas y gráficos predeterminados\n",
        "\n",
        "# Preprocesamiento de datos\n",
        "from sklearn.impute import SimpleImputer  # Imputación de valores faltantes en el conjunto de datos\n",
        "from sklearn.preprocessing import LabelEncoder  # Codificación de variables categóricas en valores numéricos\n",
        "\n",
        "# Modelado y selección de modelos\n",
        "from sklearn.model_selection import train_test_split  # División del conjunto de datos en entrenamiento y prueba\n",
        "\n",
        "# Algoritmos de regresión\n",
        "from sklearn.linear_model import LinearRegression, Ridge, Lasso, RidgeCV  # Regresiones lineales y regularizadas\n",
        "from sklearn.neighbors import KNeighborsRegressor as KNN  # Algoritmo de regresión basado en vecinos más cercanos\n",
        "from xgboost import XGBRegressor  # Algoritmo de regresión basado en boosting\n",
        "\n",
        "# Evaluación del modelo\n",
        "from sklearn.metrics import mean_squared_error, r2_score  # Métricas de evaluación para modelos de regresión (error cuadrático medio y coeficiente de determinación)\n",
        "\n",
        "# Sistema operativo\n",
        "import os  # Interacción con el sistema operativo, manejo de rutas, archivos, etc.\n"
      ],
      "metadata": {
        "id": "UtzUAAT9xuVa"
      },
      "execution_count": 2,
      "outputs": []
    },
    {
      "cell_type": "code",
      "source": [
        "from google.colab import drive\n",
        "drive.mount('/content/drive')"
      ],
      "metadata": {
        "colab": {
          "base_uri": "https://localhost:8080/"
        },
        "id": "tkdUG1yqyXIF",
        "outputId": "aa7ffc11-9fcf-4d23-b26c-d647845ef743"
      },
      "execution_count": 4,
      "outputs": [
        {
          "output_type": "stream",
          "name": "stdout",
          "text": [
            "Mounted at /content/drive\n"
          ]
        }
      ]
    },
    {
      "cell_type": "code",
      "source": [
        "\n",
        "# Cambiar al directorio 'Proyecto_Data_sciense'\n",
        "os.chdir('/content/drive/My Drive/Proyecto_Data_sciense')\n",
        "\n",
        "# Leer el archivo de Excel 'Cars_Database.xlsx'\n",
        "df_cars= pd.read_excel('Cars_Database.xlsx')"
      ],
      "metadata": {
        "id": "yju48MYwzaw5"
      },
      "execution_count": 5,
      "outputs": []
    },
    {
      "cell_type": "markdown",
      "source": [
        "# EDA\n",
        "\n",
        "### Análisis Exploratorio de Datos"
      ],
      "metadata": {
        "id": "7PCQRFqxnU3I"
      }
    },
    {
      "cell_type": "markdown",
      "source": [
        "Vamos a empezar con la descripcion del dataframe para conocer su estructura"
      ],
      "metadata": {
        "id": "jCMtiBoxz3ff"
      }
    },
    {
      "cell_type": "code",
      "source": [
        "print(df_cars.info())\n",
        "print(df_cars.describe())"
      ],
      "metadata": {
        "id": "nKOPGdpZz-ZD"
      },
      "execution_count": null,
      "outputs": []
    },
    {
      "cell_type": "markdown",
      "source": [
        "Para  que el analisis sea completo se deben buscar en las culumnas valores en en cero o en NaN para ello se aplica el codigo visto en clase"
      ],
      "metadata": {
        "id": "jWklxiYyENkU"
      }
    },
    {
      "cell_type": "code",
      "source": [
        "# Ubicar filas con al menos un valor 0 o NaN\n",
        "columnas_cero = (df_cars== 0).any()\n",
        "columnas_nan =  df_cars.isna().any()\n",
        "\n",
        "\n",
        "print(\"Filas con valor 0 o NaN:\")\n",
        "print(columnas_cero)\n",
        "print(columnas_nan)\n"
      ],
      "metadata": {
        "id": "PnCe0bD0EU3O"
      },
      "execution_count": null,
      "outputs": []
    },
    {
      "cell_type": "code",
      "source": [
        "# Reemplazar valores 0 en columnas numéricas con la mediana de la columna\n",
        "for col in df_cars.columns:\n",
        "    if df_cars[col].dtype in ['int64', 'float64'] and columnas_cero[col]:\n",
        "        df_cars[col] = df_cars[col].replace(0, df_cars[col].median())\n"
      ],
      "metadata": {
        "id": "3h8sITY53IQD"
      },
      "execution_count": 63,
      "outputs": []
    },
    {
      "cell_type": "markdown",
      "source": [
        "Remplazar los nulos o Nan con la media"
      ],
      "metadata": {
        "id": "dNPp5w_Jo1cj"
      }
    },
    {
      "cell_type": "code",
      "source": [
        "\n",
        "df_cars['tax'] = df_cars['tax'].replace(0, df_cars['tax'].median())\n",
        "print(df_cars['tax'])\n",
        "\n",
        "df_cars['mpg'] = df_cars['mpg'].replace(0, df_cars['mpg'].median())\n",
        "print(df_cars['mpg'])\n",
        "\n",
        "df_cars['engineSize'] = df_cars['engineSize'].replace(0, df_cars['engineSize'].median())\n",
        "print(df_cars['engineSize'])\n",
        "\n",
        "df_cars['Consumo de combustible por año(Millas por galon)'].fillna(df_cars['Consumo de combustible por año(Millas por galon)'].median(), inplace=True)"
      ],
      "metadata": {
        "id": "zlmTwo74E9Jr"
      },
      "execution_count": null,
      "outputs": []
    },
    {
      "cell_type": "code",
      "source": [
        "df_cars.info()"
      ],
      "metadata": {
        "colab": {
          "base_uri": "https://localhost:8080/"
        },
        "id": "fHGe675spv_d",
        "outputId": "3788d5aa-b564-47fc-f87c-ebef984b080c"
      },
      "execution_count": 68,
      "outputs": [
        {
          "output_type": "stream",
          "name": "stdout",
          "text": [
            "<class 'pandas.core.frame.DataFrame'>\n",
            "RangeIndex: 72435 entries, 0 to 72434\n",
            "Data columns (total 14 columns):\n",
            " #   Column                                            Non-Null Count  Dtype  \n",
            "---  ------                                            --------------  -----  \n",
            " 0   model                                             72435 non-null  float64\n",
            " 1   year                                              72435 non-null  float64\n",
            " 2   price                                             72435 non-null  float64\n",
            " 3   transmission                                      72435 non-null  float64\n",
            " 4   mileage                                           72435 non-null  float64\n",
            " 5   fuelType                                          72435 non-null  float64\n",
            " 6   tax                                               72435 non-null  float64\n",
            " 7   mpg                                               72435 non-null  float64\n",
            " 8   engineSize                                        72435 non-null  float64\n",
            " 9   Make                                              72435 non-null  float64\n",
            " 10  Años de circulacion                               72435 non-null  float64\n",
            " 11  Costo por milla                                   72435 non-null  float64\n",
            " 12  Consumo de combustible por año(Millas por galon)  72435 non-null  float64\n",
            " 13  Tax_Bracket                                       72435 non-null  float64\n",
            "dtypes: float64(14)\n",
            "memory usage: 7.7 MB\n"
          ]
        }
      ]
    },
    {
      "cell_type": "markdown",
      "source": [
        "## Datos Numericos"
      ],
      "metadata": {
        "id": "xFvl2X8zp0WE"
      }
    },
    {
      "cell_type": "code",
      "source": [
        "df_cars.describe()"
      ],
      "metadata": {
        "id": "CuzKaooSp5PH"
      },
      "execution_count": null,
      "outputs": []
    },
    {
      "cell_type": "code",
      "source": [
        "df_cars.hist(figsize=(10, 10))\n",
        "plt.show()"
      ],
      "metadata": {
        "id": "6u9li6rPqBOf"
      },
      "execution_count": null,
      "outputs": []
    },
    {
      "cell_type": "code",
      "source": [
        "sns.boxenplot(df_cars)\n",
        "plt.show()"
      ],
      "metadata": {
        "id": "pKQUQLlGqdbw"
      },
      "execution_count": null,
      "outputs": []
    },
    {
      "cell_type": "code",
      "source": [
        "sns.boxplot(data=df_cars['year'])\n",
        "plt.show()"
      ],
      "metadata": {
        "id": "PJhSkR_krUE3"
      },
      "execution_count": null,
      "outputs": []
    },
    {
      "cell_type": "code",
      "source": [
        "sns.boxplot(data=df_cars['price'])\n",
        "plt.show()"
      ],
      "metadata": {
        "id": "Cku-40hVrulk"
      },
      "execution_count": null,
      "outputs": []
    },
    {
      "cell_type": "code",
      "source": [
        "sns.boxplot(data=df_cars['mileage'])\n",
        "plt.show()"
      ],
      "metadata": {
        "id": "y7IwOy6br5Sa"
      },
      "execution_count": null,
      "outputs": []
    },
    {
      "cell_type": "code",
      "source": [
        "sns.boxplot(data=df_cars['mpg'])\n",
        "plt.show()"
      ],
      "metadata": {
        "id": "n416xtmwsGTs"
      },
      "execution_count": null,
      "outputs": []
    },
    {
      "cell_type": "code",
      "source": [
        "sns.boxplot(data=df_cars['engineSize'])\n",
        "plt.show()"
      ],
      "metadata": {
        "id": "sqAfc_45tByS"
      },
      "execution_count": null,
      "outputs": []
    },
    {
      "cell_type": "code",
      "source": [
        "sns.boxplot(data=df_cars['tax'])\n",
        "plt.show()"
      ],
      "metadata": {
        "id": "Nl-pYIVstJZU"
      },
      "execution_count": null,
      "outputs": []
    },
    {
      "cell_type": "code",
      "source": [
        "sns.boxplot(data=df_cars['Años de circulacion '])\n",
        "plt.show()"
      ],
      "metadata": {
        "id": "pryXliNZtN4R"
      },
      "execution_count": null,
      "outputs": []
    },
    {
      "cell_type": "code",
      "source": [
        "sns.boxplot(data=df_cars['Costo por milla'])\n",
        "plt.show()"
      ],
      "metadata": {
        "id": "xf1zZZZLt6p9"
      },
      "execution_count": null,
      "outputs": []
    },
    {
      "cell_type": "code",
      "source": [
        "sns.boxplot(data=df_cars['Consumo de combustible por año(Millas por galon)'])\n",
        "plt.show()"
      ],
      "metadata": {
        "id": "WQgIQkSIt9Jl"
      },
      "execution_count": null,
      "outputs": []
    },
    {
      "cell_type": "markdown",
      "source": [
        "Algunos Calculos para las columnas\n",
        "\n",
        "**Primera columna precio**"
      ],
      "metadata": {
        "id": "iZt3E08w4itH"
      }
    },
    {
      "cell_type": "code",
      "source": [
        "media_price = df_cars['price'].mean()\n",
        "print(f'La media es: {media_price}')\n",
        "\n",
        "#Valor minimo\n",
        "min_price=df_cars['price'].min()\n",
        "print(f'el minimo es : {min_price}')\n",
        "\n",
        "#Valor maximo\n",
        "max_price=df_cars['price'].max()\n",
        "print(f'el maximo es: {max_price}')\n",
        "\n",
        "#Desviacion Estandandar\n",
        "desest=df_cars['price'].std()\n",
        "print(f'la desviasion estadar es: {desest}')"
      ],
      "metadata": {
        "id": "7PpF6sao4ENV"
      },
      "execution_count": null,
      "outputs": []
    },
    {
      "cell_type": "markdown",
      "source": [
        "**Columna tax**"
      ],
      "metadata": {
        "id": "ySzRgKAj5CYs"
      }
    },
    {
      "cell_type": "code",
      "source": [
        "media_tax = df_cars['tax'].mean()\n",
        "print(f'La media es: {media_tax}')\n",
        "\n",
        "#Valor minimo\n",
        "min_tax=df_cars['tax'].min()\n",
        "print(f'el minimo es : {min_tax}')\n",
        "\n",
        "#Valor maximo\n",
        "max_tax=df_cars['tax'].max()\n",
        "print(f'el maximo es: {max_tax}')\n",
        "\n",
        "#Desviacion Estandandar\n",
        "desest=df_cars['tax'].std()\n",
        "print(f'la desviasion estadar es :{desest}')"
      ],
      "metadata": {
        "id": "W6hFgleg5mMq"
      },
      "execution_count": null,
      "outputs": []
    },
    {
      "cell_type": "markdown",
      "source": [
        "**Columna Millas por galon**"
      ],
      "metadata": {
        "id": "jWL0ejtd5Lby"
      }
    },
    {
      "cell_type": "code",
      "source": [
        "media_MG = df_cars['Consumo de combustible por año(Millas por galon)'].mean()\n",
        "print(f'La media es: {media_MG}')\n",
        "\n",
        "#Valor minimo\n",
        "min_MG=df_cars['Consumo de combustible por año(Millas por galon)'].min()\n",
        "print(f'el minimo es : {min_MG}')\n",
        "\n",
        "#Valor maximo\n",
        "max_MG=df_cars['Consumo de combustible por año(Millas por galon)'].max()\n",
        "print(f'el maximo es: {max_MG}')\n",
        "\n",
        "#Desviacion Estandandar\n",
        "desest=df_cars['Consumo de combustible por año(Millas por galon)'].std()\n",
        "print(f'la desviasion estadar es :{desest}')"
      ],
      "metadata": {
        "id": "L09glmIo5m0l"
      },
      "execution_count": null,
      "outputs": []
    },
    {
      "cell_type": "markdown",
      "source": [
        "**Columna millage**"
      ],
      "metadata": {
        "id": "p9W5pGRz4w-T"
      }
    },
    {
      "cell_type": "code",
      "source": [
        "media_mileage = df_cars['mileage'].mean()\n",
        "print(f'La media es: {media_mileage}')\n",
        "\n",
        "#Valor minimo\n",
        "min_mileage=df_cars['mileage'].min()\n",
        "print(f'el minimo es : {min_mileage}')\n",
        "\n",
        "#Valor maximo\n",
        "max_mileage=df_cars['mileage'].max()\n",
        "print(f'el maximo es: {max_mileage}')\n",
        "\n",
        "#Desviacion Estandandar\n",
        "desest=df_cars['mileage'].std()\n",
        "print(f'la desviasion estadar es :{desest}')"
      ],
      "metadata": {
        "id": "2WiPjxZc5nbW"
      },
      "execution_count": null,
      "outputs": []
    },
    {
      "cell_type": "markdown",
      "source": [
        "**Columna años de circulacion**"
      ],
      "metadata": {
        "id": "p2rJA6Xb5Xlu"
      }
    },
    {
      "cell_type": "code",
      "source": [
        "media_AC = df_cars['Años de circulacion '].mean()\n",
        "print(f'La media es: {media_AC}')\n",
        "\n",
        "#Valor minimo\n",
        "min_AC=df_cars['Años de circulacion '].min()\n",
        "print(f'el minimo es : {min_AC}')\n",
        "\n",
        "#Valor maximo\n",
        "max_AC=df_cars['Años de circulacion '].max()\n",
        "print(f'el maximo es: {max_AC}')\n",
        "\n",
        "#Desviacion Estandandar\n",
        "desest=df_cars['Años de circulacion '].std()\n",
        "print(f'la desviasion estadar es :{desest}')"
      ],
      "metadata": {
        "id": "SnhPb-RY5oHq"
      },
      "execution_count": null,
      "outputs": []
    },
    {
      "cell_type": "markdown",
      "source": [
        "Algunos filtros importantes para conocer aspectos del df_cars"
      ],
      "metadata": {
        "id": "WsNhcpcA6_-n"
      }
    },
    {
      "cell_type": "code",
      "source": [
        "#Promedio de precios por marca\n",
        "precio_por_marca= df_cars.groupby('Make')['price'].mean().sort_values(ascending=False)\n",
        "print(f'El precio promedio por marca es :{precio_por_marca}')\n",
        "\n",
        "# cantidad de autos por marca\n",
        "\n",
        "Cantidad_de_autos_por_marca= df_cars['Make'].value_counts()\n",
        "print(f' la Cantidad_de_autos_por_marca :{Cantidad_de_autos_por_marca}')\n",
        "\n",
        "# cantidad de autos =\n",
        "\n",
        "total_autos= len(df_cars)\n",
        "print(f\"La cantidad total de autos es: {total_autos}\")\n",
        "\n",
        "#Precio Maximo y minimo por marca\n",
        "\n",
        "precio_max_min_por_marca = df_cars.groupby('Make')['price'].agg(['max', 'min'])\n",
        "print(\"Precio máximo y mínimo por marca:\")\n",
        "print(precio_max_min_por_marca)\n",
        "\n"
      ],
      "metadata": {
        "id": "I2nZ7_SP7Iex"
      },
      "execution_count": null,
      "outputs": []
    },
    {
      "cell_type": "markdown",
      "source": [
        "## Datos Categoricos"
      ],
      "metadata": {
        "id": "KKgXcxh8ult7"
      }
    },
    {
      "cell_type": "code",
      "source": [
        "df_cars.describe(include='object')"
      ],
      "metadata": {
        "id": "lH-W9TAUuqbV"
      },
      "execution_count": null,
      "outputs": []
    },
    {
      "cell_type": "code",
      "source": [
        "df_cars['Primiry_key'].value_counts()"
      ],
      "metadata": {
        "id": "Y1erq1aFvNgh"
      },
      "execution_count": null,
      "outputs": []
    },
    {
      "cell_type": "code",
      "source": [
        "df_cars['model'].value_counts()"
      ],
      "metadata": {
        "id": "Fx_KbIgNvfeY"
      },
      "execution_count": null,
      "outputs": []
    },
    {
      "cell_type": "code",
      "source": [
        "df_cars['transmission'].value_counts()"
      ],
      "metadata": {
        "id": "G6GgIvOYv1fJ"
      },
      "execution_count": null,
      "outputs": []
    },
    {
      "cell_type": "code",
      "source": [
        "df_cars['fuelType'].value_counts()"
      ],
      "metadata": {
        "id": "2_mSCwOxvg6w"
      },
      "execution_count": null,
      "outputs": []
    },
    {
      "cell_type": "code",
      "source": [
        "df_cars['Make'].value_counts()"
      ],
      "metadata": {
        "id": "agbHZ20Rvh-1"
      },
      "execution_count": null,
      "outputs": []
    },
    {
      "cell_type": "code",
      "source": [
        "df_cars['Tax_Bracket'].value_counts()"
      ],
      "metadata": {
        "id": "Cw30qcxbvhzx"
      },
      "execution_count": null,
      "outputs": []
    },
    {
      "cell_type": "markdown",
      "source": [
        "Graficos de las variables encontradas, podemos graficar tanto medidas como dimensiones para conocer las relaciones entre las varaibles del df_cars\n"
      ],
      "metadata": {
        "id": "v9icvmsz732d"
      }
    },
    {
      "cell_type": "code",
      "source": [
        "# Visualización de precios por marca\n",
        "\n",
        "plt.figure(figsize=(10, 6))\n",
        "precio_por_marca.plot(kind='bar', color='skyblue')\n",
        "plt.title('Precio Promedio por Marca')\n",
        "plt.xlabel('Marca')\n",
        "plt.ylabel('Precio Promedio')\n",
        "plt.xticks(rotation=45)\n",
        "plt.show()\n"
      ],
      "metadata": {
        "id": "ThV9IrZm8C8G"
      },
      "execution_count": null,
      "outputs": []
    },
    {
      "cell_type": "code",
      "source": [
        "# Distribución de precios según la transmisión (automática o manual)\n",
        "\n",
        "plt.figure(figsize=(8, 6))\n",
        "sns.boxplot(x='transmission', y='price', data=df_cars, palette='Set2')\n",
        "plt.title('Distribución de Precios según Transmisión')\n",
        "plt.xlabel('Transmisión')\n",
        "plt.ylabel('Precio')\n",
        "plt.show()"
      ],
      "metadata": {
        "id": "V4rP57_B8OIW"
      },
      "execution_count": null,
      "outputs": []
    },
    {
      "cell_type": "code",
      "source": [
        "# Distribución del Precio por Año:\n",
        "\n",
        "plt.figure(figsize=(12, 6))\n",
        "sns.boxplot(x='year', y='price', data=df_cars)\n",
        "plt.title('Distribución del Precio por Año')\n",
        "plt.xlabel('Año')\n",
        "plt.ylabel('Precio')\n",
        "plt.xticks(rotation=45)\n",
        "plt.show()"
      ],
      "metadata": {
        "id": "d09MqIjE8jbr"
      },
      "execution_count": null,
      "outputs": []
    },
    {
      "cell_type": "code",
      "source": [
        "# Precio promedio por año\n",
        "\n",
        "plt.figure(figsize=(14, 8))\n",
        "sns.barplot(x='Make', y='price', data=df_cars, estimator=lambda x: sum(x) / len(x))\n",
        "plt.title('Precio Promedio por Fabricante')\n",
        "plt.xlabel('Fabricante')\n",
        "plt.ylabel('Precio Promedio')\n",
        "plt.xticks(rotation=45)\n",
        "plt.show()"
      ],
      "metadata": {
        "id": "e7HqVySc817L"
      },
      "execution_count": null,
      "outputs": []
    },
    {
      "cell_type": "code",
      "source": [
        "#Relación entre Año y Precio\n",
        "\n",
        "plt.figure(figsize=(12, 6))\n",
        "sns.scatterplot(x='year', y='price', hue='Make', data=df_cars)\n",
        "sns.lineplot(x='year', y='price', hue='Make', data=df_cars, ci=None, estimator='mean', marker='o')\n",
        "plt.title('Relación entre Año y Precio por Fabricante')\n",
        "plt.xlabel('Año')\n",
        "plt.ylabel('Precio')\n",
        "plt.xticks(rotation=45)\n",
        "plt.show()\n"
      ],
      "metadata": {
        "id": "JuQfSzSS9Cb3"
      },
      "execution_count": null,
      "outputs": []
    },
    {
      "cell_type": "code",
      "source": [
        "#  Tendencias de Precio a lo Largo del Tiempo por Fabricante:\n",
        "\n",
        "plt.figure(figsize=(14, 8))\n",
        "sns.lineplot(x='year', y='price', hue='Make', data=df_cars, marker='o')\n",
        "plt.title('Tendencia de Precios a lo Largo del Tiempo por Fabricante')\n",
        "plt.xlabel('Año')\n",
        "plt.ylabel('Precio')\n",
        "plt.xticks(rotation=45)\n",
        "plt.show()\n",
        "\n"
      ],
      "metadata": {
        "id": "vHPJbrv69UtH"
      },
      "execution_count": null,
      "outputs": []
    },
    {
      "cell_type": "markdown",
      "source": [
        "## Preprocesamiento"
      ],
      "metadata": {
        "id": "A0mWsa0vDbI0"
      }
    },
    {
      "cell_type": "code",
      "source": [
        "# label encoder para la categoricas\n",
        "column= ['Primiry_key','model', 'transmission', 'fuelType', 'Make', 'Tax_Bracket']\n",
        "df_cars[column] = df_cars[column].apply(LabelEncoder().fit_transform)"
      ],
      "metadata": {
        "id": "M5_goRiiw3-9"
      },
      "execution_count": 48,
      "outputs": []
    },
    {
      "cell_type": "code",
      "source": [
        "# elimino el id Primiry_Key\n",
        "df_cars.drop('Primiry_key',axis=1,inplace=True)\n"
      ],
      "metadata": {
        "id": "vssiIv02xlue"
      },
      "execution_count": 50,
      "outputs": []
    },
    {
      "cell_type": "code",
      "source": [
        "df_cars.head()"
      ],
      "metadata": {
        "id": "On68L3Tfx5QX"
      },
      "execution_count": null,
      "outputs": []
    },
    {
      "cell_type": "code",
      "source": [
        "# Creación de la matriz de correlación\n",
        "correlation_matrix = df_cars.corr()\n",
        "# Visualización de la matriz de correlación\n",
        "plt.figure(figsize=(10, 8))\n",
        "sns.heatmap(correlation_matrix, annot=True, cmap='coolwarm', fmt=\".2f\")\n",
        "plt.title('Matriz de Correlación')\n",
        "plt.show()\n"
      ],
      "metadata": {
        "id": "1jMbJcImygW8"
      },
      "execution_count": null,
      "outputs": []
    },
    {
      "cell_type": "markdown",
      "source": [
        "## Modelado"
      ],
      "metadata": {
        "id": "y3bT_NETzsqu"
      }
    },
    {
      "cell_type": "code",
      "source": [
        "# Cargar los datos\n",
        "X = df_cars.drop(['price'],axis=1)\n",
        "y = df_cars['price']"
      ],
      "metadata": {
        "id": "Q9whvV2Mzq2U"
      },
      "execution_count": 70,
      "outputs": []
    },
    {
      "cell_type": "code",
      "source": [
        "# split data\n",
        "X_train, X_test, y_train, y_test = train_test_split(X, y, test_size=0.30, random_state=16)\n",
        "\n",
        "print('x_train size',X_train.shape)\n",
        "print('y_train size',y_train.shape)\n",
        "print('x_test size',X_test.shape)\n",
        "print('y_test size',y_test.shape)"
      ],
      "metadata": {
        "colab": {
          "base_uri": "https://localhost:8080/"
        },
        "id": "beG1masPz5AY",
        "outputId": "ed630044-6fad-4464-cc60-e06a1066119c"
      },
      "execution_count": 71,
      "outputs": [
        {
          "output_type": "stream",
          "name": "stdout",
          "text": [
            "x_train size (50704, 13)\n",
            "y_train size (50704,)\n",
            "x_test size (21731, 13)\n",
            "y_test size (21731,)\n"
          ]
        }
      ]
    },
    {
      "cell_type": "markdown",
      "source": [
        "## Regresión Lineal"
      ],
      "metadata": {
        "id": "TqnaAeMQ0GWq"
      }
    },
    {
      "cell_type": "code",
      "source": [
        "# instanciamos el modelo\n",
        "model=LinearRegression()"
      ],
      "metadata": {
        "id": "ikT_n0c60K9T"
      },
      "execution_count": 72,
      "outputs": []
    },
    {
      "cell_type": "code",
      "source": [
        "# entranamos\n",
        "model.fit(X_train, y_train)"
      ],
      "metadata": {
        "colab": {
          "base_uri": "https://localhost:8080/",
          "height": 75
        },
        "id": "O_cmOwK50NLO",
        "outputId": "b23aeecb-dcc6-4c56-bc7e-8491f0e73c10"
      },
      "execution_count": 73,
      "outputs": [
        {
          "output_type": "execute_result",
          "data": {
            "text/plain": [
              "LinearRegression()"
            ],
            "text/html": [
              "<style>#sk-container-id-1 {color: black;}#sk-container-id-1 pre{padding: 0;}#sk-container-id-1 div.sk-toggleable {background-color: white;}#sk-container-id-1 label.sk-toggleable__label {cursor: pointer;display: block;width: 100%;margin-bottom: 0;padding: 0.3em;box-sizing: border-box;text-align: center;}#sk-container-id-1 label.sk-toggleable__label-arrow:before {content: \"▸\";float: left;margin-right: 0.25em;color: #696969;}#sk-container-id-1 label.sk-toggleable__label-arrow:hover:before {color: black;}#sk-container-id-1 div.sk-estimator:hover label.sk-toggleable__label-arrow:before {color: black;}#sk-container-id-1 div.sk-toggleable__content {max-height: 0;max-width: 0;overflow: hidden;text-align: left;background-color: #f0f8ff;}#sk-container-id-1 div.sk-toggleable__content pre {margin: 0.2em;color: black;border-radius: 0.25em;background-color: #f0f8ff;}#sk-container-id-1 input.sk-toggleable__control:checked~div.sk-toggleable__content {max-height: 200px;max-width: 100%;overflow: auto;}#sk-container-id-1 input.sk-toggleable__control:checked~label.sk-toggleable__label-arrow:before {content: \"▾\";}#sk-container-id-1 div.sk-estimator input.sk-toggleable__control:checked~label.sk-toggleable__label {background-color: #d4ebff;}#sk-container-id-1 div.sk-label input.sk-toggleable__control:checked~label.sk-toggleable__label {background-color: #d4ebff;}#sk-container-id-1 input.sk-hidden--visually {border: 0;clip: rect(1px 1px 1px 1px);clip: rect(1px, 1px, 1px, 1px);height: 1px;margin: -1px;overflow: hidden;padding: 0;position: absolute;width: 1px;}#sk-container-id-1 div.sk-estimator {font-family: monospace;background-color: #f0f8ff;border: 1px dotted black;border-radius: 0.25em;box-sizing: border-box;margin-bottom: 0.5em;}#sk-container-id-1 div.sk-estimator:hover {background-color: #d4ebff;}#sk-container-id-1 div.sk-parallel-item::after {content: \"\";width: 100%;border-bottom: 1px solid gray;flex-grow: 1;}#sk-container-id-1 div.sk-label:hover label.sk-toggleable__label {background-color: #d4ebff;}#sk-container-id-1 div.sk-serial::before {content: \"\";position: absolute;border-left: 1px solid gray;box-sizing: border-box;top: 0;bottom: 0;left: 50%;z-index: 0;}#sk-container-id-1 div.sk-serial {display: flex;flex-direction: column;align-items: center;background-color: white;padding-right: 0.2em;padding-left: 0.2em;position: relative;}#sk-container-id-1 div.sk-item {position: relative;z-index: 1;}#sk-container-id-1 div.sk-parallel {display: flex;align-items: stretch;justify-content: center;background-color: white;position: relative;}#sk-container-id-1 div.sk-item::before, #sk-container-id-1 div.sk-parallel-item::before {content: \"\";position: absolute;border-left: 1px solid gray;box-sizing: border-box;top: 0;bottom: 0;left: 50%;z-index: -1;}#sk-container-id-1 div.sk-parallel-item {display: flex;flex-direction: column;z-index: 1;position: relative;background-color: white;}#sk-container-id-1 div.sk-parallel-item:first-child::after {align-self: flex-end;width: 50%;}#sk-container-id-1 div.sk-parallel-item:last-child::after {align-self: flex-start;width: 50%;}#sk-container-id-1 div.sk-parallel-item:only-child::after {width: 0;}#sk-container-id-1 div.sk-dashed-wrapped {border: 1px dashed gray;margin: 0 0.4em 0.5em 0.4em;box-sizing: border-box;padding-bottom: 0.4em;background-color: white;}#sk-container-id-1 div.sk-label label {font-family: monospace;font-weight: bold;display: inline-block;line-height: 1.2em;}#sk-container-id-1 div.sk-label-container {text-align: center;}#sk-container-id-1 div.sk-container {/* jupyter's `normalize.less` sets `[hidden] { display: none; }` but bootstrap.min.css set `[hidden] { display: none !important; }` so we also need the `!important` here to be able to override the default hidden behavior on the sphinx rendered scikit-learn.org. See: https://github.com/scikit-learn/scikit-learn/issues/21755 */display: inline-block !important;position: relative;}#sk-container-id-1 div.sk-text-repr-fallback {display: none;}</style><div id=\"sk-container-id-1\" class=\"sk-top-container\"><div class=\"sk-text-repr-fallback\"><pre>LinearRegression()</pre><b>In a Jupyter environment, please rerun this cell to show the HTML representation or trust the notebook. <br />On GitHub, the HTML representation is unable to render, please try loading this page with nbviewer.org.</b></div><div class=\"sk-container\" hidden><div class=\"sk-item\"><div class=\"sk-estimator sk-toggleable\"><input class=\"sk-toggleable__control sk-hidden--visually\" id=\"sk-estimator-id-1\" type=\"checkbox\" checked><label for=\"sk-estimator-id-1\" class=\"sk-toggleable__label sk-toggleable__label-arrow\">LinearRegression</label><div class=\"sk-toggleable__content\"><pre>LinearRegression()</pre></div></div></div></div></div>"
            ]
          },
          "metadata": {},
          "execution_count": 73
        }
      ]
    },
    {
      "cell_type": "code",
      "source": [
        "# prediccion\n",
        "y_pred = model.predict(X_test)"
      ],
      "metadata": {
        "id": "9VP1TNZ30O4h"
      },
      "execution_count": 74,
      "outputs": []
    },
    {
      "cell_type": "code",
      "source": [
        "# metrica R2\n",
        "r2_rl = r2_score(y_test, y_pred)\n",
        "r2_rl"
      ],
      "metadata": {
        "colab": {
          "base_uri": "https://localhost:8080/"
        },
        "id": "on2mtNpP0QyS",
        "outputId": "8caf7797-5874-4003-82a1-10acbc162cd2"
      },
      "execution_count": 75,
      "outputs": [
        {
          "output_type": "execute_result",
          "data": {
            "text/plain": [
              "0.7413335627517063"
            ]
          },
          "metadata": {},
          "execution_count": 75
        }
      ]
    },
    {
      "cell_type": "markdown",
      "source": [
        "## KNN"
      ],
      "metadata": {
        "id": "NJ1vzHb54LQW"
      }
    },
    {
      "cell_type": "code",
      "source": [
        "# instanciamos el modelo\n",
        "model = KNN(n_neighbors=5,weights=\"uniform\",metric=\"manhattan\")"
      ],
      "metadata": {
        "id": "6q6t21t14TiE"
      },
      "execution_count": 76,
      "outputs": []
    },
    {
      "cell_type": "code",
      "source": [
        "# entranamos\n",
        "model.fit(X_train, y_train)"
      ],
      "metadata": {
        "colab": {
          "base_uri": "https://localhost:8080/",
          "height": 75
        },
        "id": "QZMwWI2V4UO_",
        "outputId": "fd463afa-04fc-4a55-882c-5f2bd13eed06"
      },
      "execution_count": 77,
      "outputs": [
        {
          "output_type": "execute_result",
          "data": {
            "text/plain": [
              "KNeighborsRegressor(metric='manhattan')"
            ],
            "text/html": [
              "<style>#sk-container-id-2 {color: black;}#sk-container-id-2 pre{padding: 0;}#sk-container-id-2 div.sk-toggleable {background-color: white;}#sk-container-id-2 label.sk-toggleable__label {cursor: pointer;display: block;width: 100%;margin-bottom: 0;padding: 0.3em;box-sizing: border-box;text-align: center;}#sk-container-id-2 label.sk-toggleable__label-arrow:before {content: \"▸\";float: left;margin-right: 0.25em;color: #696969;}#sk-container-id-2 label.sk-toggleable__label-arrow:hover:before {color: black;}#sk-container-id-2 div.sk-estimator:hover label.sk-toggleable__label-arrow:before {color: black;}#sk-container-id-2 div.sk-toggleable__content {max-height: 0;max-width: 0;overflow: hidden;text-align: left;background-color: #f0f8ff;}#sk-container-id-2 div.sk-toggleable__content pre {margin: 0.2em;color: black;border-radius: 0.25em;background-color: #f0f8ff;}#sk-container-id-2 input.sk-toggleable__control:checked~div.sk-toggleable__content {max-height: 200px;max-width: 100%;overflow: auto;}#sk-container-id-2 input.sk-toggleable__control:checked~label.sk-toggleable__label-arrow:before {content: \"▾\";}#sk-container-id-2 div.sk-estimator input.sk-toggleable__control:checked~label.sk-toggleable__label {background-color: #d4ebff;}#sk-container-id-2 div.sk-label input.sk-toggleable__control:checked~label.sk-toggleable__label {background-color: #d4ebff;}#sk-container-id-2 input.sk-hidden--visually {border: 0;clip: rect(1px 1px 1px 1px);clip: rect(1px, 1px, 1px, 1px);height: 1px;margin: -1px;overflow: hidden;padding: 0;position: absolute;width: 1px;}#sk-container-id-2 div.sk-estimator {font-family: monospace;background-color: #f0f8ff;border: 1px dotted black;border-radius: 0.25em;box-sizing: border-box;margin-bottom: 0.5em;}#sk-container-id-2 div.sk-estimator:hover {background-color: #d4ebff;}#sk-container-id-2 div.sk-parallel-item::after {content: \"\";width: 100%;border-bottom: 1px solid gray;flex-grow: 1;}#sk-container-id-2 div.sk-label:hover label.sk-toggleable__label {background-color: #d4ebff;}#sk-container-id-2 div.sk-serial::before {content: \"\";position: absolute;border-left: 1px solid gray;box-sizing: border-box;top: 0;bottom: 0;left: 50%;z-index: 0;}#sk-container-id-2 div.sk-serial {display: flex;flex-direction: column;align-items: center;background-color: white;padding-right: 0.2em;padding-left: 0.2em;position: relative;}#sk-container-id-2 div.sk-item {position: relative;z-index: 1;}#sk-container-id-2 div.sk-parallel {display: flex;align-items: stretch;justify-content: center;background-color: white;position: relative;}#sk-container-id-2 div.sk-item::before, #sk-container-id-2 div.sk-parallel-item::before {content: \"\";position: absolute;border-left: 1px solid gray;box-sizing: border-box;top: 0;bottom: 0;left: 50%;z-index: -1;}#sk-container-id-2 div.sk-parallel-item {display: flex;flex-direction: column;z-index: 1;position: relative;background-color: white;}#sk-container-id-2 div.sk-parallel-item:first-child::after {align-self: flex-end;width: 50%;}#sk-container-id-2 div.sk-parallel-item:last-child::after {align-self: flex-start;width: 50%;}#sk-container-id-2 div.sk-parallel-item:only-child::after {width: 0;}#sk-container-id-2 div.sk-dashed-wrapped {border: 1px dashed gray;margin: 0 0.4em 0.5em 0.4em;box-sizing: border-box;padding-bottom: 0.4em;background-color: white;}#sk-container-id-2 div.sk-label label {font-family: monospace;font-weight: bold;display: inline-block;line-height: 1.2em;}#sk-container-id-2 div.sk-label-container {text-align: center;}#sk-container-id-2 div.sk-container {/* jupyter's `normalize.less` sets `[hidden] { display: none; }` but bootstrap.min.css set `[hidden] { display: none !important; }` so we also need the `!important` here to be able to override the default hidden behavior on the sphinx rendered scikit-learn.org. See: https://github.com/scikit-learn/scikit-learn/issues/21755 */display: inline-block !important;position: relative;}#sk-container-id-2 div.sk-text-repr-fallback {display: none;}</style><div id=\"sk-container-id-2\" class=\"sk-top-container\"><div class=\"sk-text-repr-fallback\"><pre>KNeighborsRegressor(metric=&#x27;manhattan&#x27;)</pre><b>In a Jupyter environment, please rerun this cell to show the HTML representation or trust the notebook. <br />On GitHub, the HTML representation is unable to render, please try loading this page with nbviewer.org.</b></div><div class=\"sk-container\" hidden><div class=\"sk-item\"><div class=\"sk-estimator sk-toggleable\"><input class=\"sk-toggleable__control sk-hidden--visually\" id=\"sk-estimator-id-2\" type=\"checkbox\" checked><label for=\"sk-estimator-id-2\" class=\"sk-toggleable__label sk-toggleable__label-arrow\">KNeighborsRegressor</label><div class=\"sk-toggleable__content\"><pre>KNeighborsRegressor(metric=&#x27;manhattan&#x27;)</pre></div></div></div></div></div>"
            ]
          },
          "metadata": {},
          "execution_count": 77
        }
      ]
    },
    {
      "cell_type": "code",
      "source": [
        "# prediccion\n",
        "y_pred = model.predict(X_test)"
      ],
      "metadata": {
        "id": "f-i85xqa4WCw"
      },
      "execution_count": 78,
      "outputs": []
    },
    {
      "cell_type": "code",
      "source": [
        "# metrica R2\n",
        "r2_knn = r2_score(y_test, y_pred)\n",
        "r2_knn"
      ],
      "metadata": {
        "colab": {
          "base_uri": "https://localhost:8080/"
        },
        "id": "oRUXLtgK4WdX",
        "outputId": "4d90bb7e-aa00-4dd3-f93b-4261bf15bb91"
      },
      "execution_count": 79,
      "outputs": [
        {
          "output_type": "execute_result",
          "data": {
            "text/plain": [
              "0.6453713083309599"
            ]
          },
          "metadata": {},
          "execution_count": 79
        }
      ]
    },
    {
      "cell_type": "markdown",
      "source": [
        "## XGBoost"
      ],
      "metadata": {
        "id": "FHLn965X4h2L"
      }
    },
    {
      "cell_type": "code",
      "source": [
        "# instanciamos el modelo\n",
        "model = XGBRegressor(n_estimators= 2000 , max_depth= 7 , learning_rate = 0.01)"
      ],
      "metadata": {
        "id": "k-1RfVnW4pYx"
      },
      "execution_count": 80,
      "outputs": []
    },
    {
      "cell_type": "code",
      "source": [
        "# entranamos\n",
        "model.fit(X_train, y_train)"
      ],
      "metadata": {
        "colab": {
          "base_uri": "https://localhost:8080/",
          "height": 248
        },
        "id": "2LqWhIrN4p7o",
        "outputId": "7852944d-851b-4f2f-d403-23da5c307a7b"
      },
      "execution_count": 81,
      "outputs": [
        {
          "output_type": "execute_result",
          "data": {
            "text/plain": [
              "XGBRegressor(base_score=None, booster=None, callbacks=None,\n",
              "             colsample_bylevel=None, colsample_bynode=None,\n",
              "             colsample_bytree=None, device=None, early_stopping_rounds=None,\n",
              "             enable_categorical=False, eval_metric=None, feature_types=None,\n",
              "             gamma=None, grow_policy=None, importance_type=None,\n",
              "             interaction_constraints=None, learning_rate=0.01, max_bin=None,\n",
              "             max_cat_threshold=None, max_cat_to_onehot=None,\n",
              "             max_delta_step=None, max_depth=7, max_leaves=None,\n",
              "             min_child_weight=None, missing=nan, monotone_constraints=None,\n",
              "             multi_strategy=None, n_estimators=2000, n_jobs=None,\n",
              "             num_parallel_tree=None, random_state=None, ...)"
            ],
            "text/html": [
              "<style>#sk-container-id-3 {color: black;}#sk-container-id-3 pre{padding: 0;}#sk-container-id-3 div.sk-toggleable {background-color: white;}#sk-container-id-3 label.sk-toggleable__label {cursor: pointer;display: block;width: 100%;margin-bottom: 0;padding: 0.3em;box-sizing: border-box;text-align: center;}#sk-container-id-3 label.sk-toggleable__label-arrow:before {content: \"▸\";float: left;margin-right: 0.25em;color: #696969;}#sk-container-id-3 label.sk-toggleable__label-arrow:hover:before {color: black;}#sk-container-id-3 div.sk-estimator:hover label.sk-toggleable__label-arrow:before {color: black;}#sk-container-id-3 div.sk-toggleable__content {max-height: 0;max-width: 0;overflow: hidden;text-align: left;background-color: #f0f8ff;}#sk-container-id-3 div.sk-toggleable__content pre {margin: 0.2em;color: black;border-radius: 0.25em;background-color: #f0f8ff;}#sk-container-id-3 input.sk-toggleable__control:checked~div.sk-toggleable__content {max-height: 200px;max-width: 100%;overflow: auto;}#sk-container-id-3 input.sk-toggleable__control:checked~label.sk-toggleable__label-arrow:before {content: \"▾\";}#sk-container-id-3 div.sk-estimator input.sk-toggleable__control:checked~label.sk-toggleable__label {background-color: #d4ebff;}#sk-container-id-3 div.sk-label input.sk-toggleable__control:checked~label.sk-toggleable__label {background-color: #d4ebff;}#sk-container-id-3 input.sk-hidden--visually {border: 0;clip: rect(1px 1px 1px 1px);clip: rect(1px, 1px, 1px, 1px);height: 1px;margin: -1px;overflow: hidden;padding: 0;position: absolute;width: 1px;}#sk-container-id-3 div.sk-estimator {font-family: monospace;background-color: #f0f8ff;border: 1px dotted black;border-radius: 0.25em;box-sizing: border-box;margin-bottom: 0.5em;}#sk-container-id-3 div.sk-estimator:hover {background-color: #d4ebff;}#sk-container-id-3 div.sk-parallel-item::after {content: \"\";width: 100%;border-bottom: 1px solid gray;flex-grow: 1;}#sk-container-id-3 div.sk-label:hover label.sk-toggleable__label {background-color: #d4ebff;}#sk-container-id-3 div.sk-serial::before {content: \"\";position: absolute;border-left: 1px solid gray;box-sizing: border-box;top: 0;bottom: 0;left: 50%;z-index: 0;}#sk-container-id-3 div.sk-serial {display: flex;flex-direction: column;align-items: center;background-color: white;padding-right: 0.2em;padding-left: 0.2em;position: relative;}#sk-container-id-3 div.sk-item {position: relative;z-index: 1;}#sk-container-id-3 div.sk-parallel {display: flex;align-items: stretch;justify-content: center;background-color: white;position: relative;}#sk-container-id-3 div.sk-item::before, #sk-container-id-3 div.sk-parallel-item::before {content: \"\";position: absolute;border-left: 1px solid gray;box-sizing: border-box;top: 0;bottom: 0;left: 50%;z-index: -1;}#sk-container-id-3 div.sk-parallel-item {display: flex;flex-direction: column;z-index: 1;position: relative;background-color: white;}#sk-container-id-3 div.sk-parallel-item:first-child::after {align-self: flex-end;width: 50%;}#sk-container-id-3 div.sk-parallel-item:last-child::after {align-self: flex-start;width: 50%;}#sk-container-id-3 div.sk-parallel-item:only-child::after {width: 0;}#sk-container-id-3 div.sk-dashed-wrapped {border: 1px dashed gray;margin: 0 0.4em 0.5em 0.4em;box-sizing: border-box;padding-bottom: 0.4em;background-color: white;}#sk-container-id-3 div.sk-label label {font-family: monospace;font-weight: bold;display: inline-block;line-height: 1.2em;}#sk-container-id-3 div.sk-label-container {text-align: center;}#sk-container-id-3 div.sk-container {/* jupyter's `normalize.less` sets `[hidden] { display: none; }` but bootstrap.min.css set `[hidden] { display: none !important; }` so we also need the `!important` here to be able to override the default hidden behavior on the sphinx rendered scikit-learn.org. See: https://github.com/scikit-learn/scikit-learn/issues/21755 */display: inline-block !important;position: relative;}#sk-container-id-3 div.sk-text-repr-fallback {display: none;}</style><div id=\"sk-container-id-3\" class=\"sk-top-container\"><div class=\"sk-text-repr-fallback\"><pre>XGBRegressor(base_score=None, booster=None, callbacks=None,\n",
              "             colsample_bylevel=None, colsample_bynode=None,\n",
              "             colsample_bytree=None, device=None, early_stopping_rounds=None,\n",
              "             enable_categorical=False, eval_metric=None, feature_types=None,\n",
              "             gamma=None, grow_policy=None, importance_type=None,\n",
              "             interaction_constraints=None, learning_rate=0.01, max_bin=None,\n",
              "             max_cat_threshold=None, max_cat_to_onehot=None,\n",
              "             max_delta_step=None, max_depth=7, max_leaves=None,\n",
              "             min_child_weight=None, missing=nan, monotone_constraints=None,\n",
              "             multi_strategy=None, n_estimators=2000, n_jobs=None,\n",
              "             num_parallel_tree=None, random_state=None, ...)</pre><b>In a Jupyter environment, please rerun this cell to show the HTML representation or trust the notebook. <br />On GitHub, the HTML representation is unable to render, please try loading this page with nbviewer.org.</b></div><div class=\"sk-container\" hidden><div class=\"sk-item\"><div class=\"sk-estimator sk-toggleable\"><input class=\"sk-toggleable__control sk-hidden--visually\" id=\"sk-estimator-id-3\" type=\"checkbox\" checked><label for=\"sk-estimator-id-3\" class=\"sk-toggleable__label sk-toggleable__label-arrow\">XGBRegressor</label><div class=\"sk-toggleable__content\"><pre>XGBRegressor(base_score=None, booster=None, callbacks=None,\n",
              "             colsample_bylevel=None, colsample_bynode=None,\n",
              "             colsample_bytree=None, device=None, early_stopping_rounds=None,\n",
              "             enable_categorical=False, eval_metric=None, feature_types=None,\n",
              "             gamma=None, grow_policy=None, importance_type=None,\n",
              "             interaction_constraints=None, learning_rate=0.01, max_bin=None,\n",
              "             max_cat_threshold=None, max_cat_to_onehot=None,\n",
              "             max_delta_step=None, max_depth=7, max_leaves=None,\n",
              "             min_child_weight=None, missing=nan, monotone_constraints=None,\n",
              "             multi_strategy=None, n_estimators=2000, n_jobs=None,\n",
              "             num_parallel_tree=None, random_state=None, ...)</pre></div></div></div></div></div>"
            ]
          },
          "metadata": {},
          "execution_count": 81
        }
      ]
    },
    {
      "cell_type": "code",
      "source": [
        "# prediccion\n",
        "y_pred = model.predict(X_test)"
      ],
      "metadata": {
        "id": "1OAOKOZB4pwM"
      },
      "execution_count": 82,
      "outputs": []
    },
    {
      "cell_type": "code",
      "source": [
        "# metrica R2\n",
        "r2_xgb = r2_score(y_test, y_pred)\n",
        "r2_xgb"
      ],
      "metadata": {
        "colab": {
          "base_uri": "https://localhost:8080/"
        },
        "id": "h9Jy32hp4pjW",
        "outputId": "512bebd0-776d-4640-e0de-9ecd75fdf61c"
      },
      "execution_count": 83,
      "outputs": [
        {
          "output_type": "execute_result",
          "data": {
            "text/plain": [
              "0.987784629421557"
            ]
          },
          "metadata": {},
          "execution_count": 83
        }
      ]
    },
    {
      "cell_type": "markdown",
      "source": [
        "## Resultados del Test"
      ],
      "metadata": {
        "id": "YG3VFHoq9qwn"
      }
    },
    {
      "cell_type": "code",
      "source": [
        "print(\"Algoritmo Regresión Lineal \" + str(round(r2_rl, 4)))\n",
        "print(\"Algoritmo KNN \" + str(round(r2_knn, 4)))\n",
        "print(\"Algoritmo XGB \" + str(round(r2_xgb, 4)))"
      ],
      "metadata": {
        "colab": {
          "base_uri": "https://localhost:8080/"
        },
        "id": "YYNUIvUV9oJd",
        "outputId": "28a3033a-1f17-4642-d29d-d662840587e5"
      },
      "execution_count": 94,
      "outputs": [
        {
          "output_type": "stream",
          "name": "stdout",
          "text": [
            "Algoritmo Regresión Lineal 0.7413\n",
            "Algoritmo KNN 0.6454\n",
            "Algoritmo XGB 0.9878\n"
          ]
        }
      ]
    },
    {
      "cell_type": "markdown",
      "source": [
        "El mejor modelo fue el XGB"
      ],
      "metadata": {
        "id": "cNhNRtVG_x8p"
      }
    },
    {
      "cell_type": "markdown",
      "source": [
        "Graficos de analisis"
      ],
      "metadata": {
        "id": "XK-QqenISKM7"
      }
    },
    {
      "cell_type": "code",
      "source": [
        "# Gráfico de dispersión\n",
        "plt.figure(figsize=(10, 6))\n",
        "sns.scatterplot(x='year', y='price', data=df_cars, hue='Make', alpha=0.7)\n",
        "plt.title('Relación entre Año y Precio de los Vehículos')\n",
        "plt.xlabel('Año')\n",
        "plt.ylabel('Precio')\n",
        "plt.grid(True)\n",
        "plt.show()\n",
        "\n",
        "# Gráfico de línea\n",
        "plt.figure(figsize=(12, 6))\n",
        "sns.lineplot(x='year', y='price', data=df_cars, ci=None)\n",
        "plt.title('Tendencia de Precios a lo Largo del Tiempo')\n",
        "plt.xlabel('Año')\n",
        "plt.ylabel('Precio Promedio')\n",
        "plt.grid(True)\n",
        "plt.show()"
      ],
      "metadata": {
        "id": "LHcPjpuiSJ5O"
      },
      "execution_count": null,
      "outputs": []
    },
    {
      "cell_type": "markdown",
      "source": [
        "\n",
        "**Resultado**\n",
        "\n",
        "Relación Directa:  los gráficos muestran que los autos más nuevos tienden a tener precios más altos, esto confirmaría la hipótesis de que el año de fabricación es un factor importante en la determinación del precio.\n",
        "\n",
        "Variabilidad por Marca: Al segmentar por marca, se sabe  que algunas marcas retienen mejor su valor con el tiempo que otras."
      ],
      "metadata": {
        "id": "Qm_G17EESPs-"
      }
    },
    {
      "cell_type": "markdown",
      "source": [
        "Respecto a los automaticos y manuales:"
      ],
      "metadata": {
        "id": "8jQN0V8jSlRZ"
      }
    },
    {
      "cell_type": "code",
      "source": [
        "# Gráfico de caja (Boxplot)\n",
        "plt.figure(figsize=(10, 6))\n",
        "sns.boxplot(x='transmission', y='price', data=df_cars, palette='Set2')\n",
        "plt.title('Distribución de Precios según Tipo de Transmisión')\n",
        "plt.xlabel('Transmisión')\n",
        "plt.ylabel('Precio')\n",
        "plt.show()\n",
        "\n",
        "# Gráfico de barras (Bar Plot)\n",
        "plt.figure(figsize=(10, 6))\n",
        "sns.barplot(x='transmission', y='price', data=df_cars, estimator=np.mean)\n",
        "plt.title('Precio Promedio según Tipo de Transmisión')\n",
        "plt.xlabel('Transmisión')\n",
        "plt.ylabel('Precio Promedio')\n",
        "plt.show()\n"
      ],
      "metadata": {
        "id": "5Efbq4zMSrHE"
      },
      "execution_count": null,
      "outputs": []
    },
    {
      "cell_type": "markdown",
      "source": [
        "Diferencias de Precio: La transmisión automática muestra precios significativamente más altos, puede concluir que los autos automáticos son percibidos como más valiosos o que su fabricación es más costosa.\n",
        "\n",
        "Distribución de Precios: El boxplot permite ver QUE  hay mayor variabilidad en los precios de los autos automáticos en comparación con los manuales."
      ],
      "metadata": {
        "id": "UZJ7oKSySwjj"
      }
    },
    {
      "cell_type": "markdown",
      "source": [
        "Combustible segun el tamaño del motor y precio"
      ],
      "metadata": {
        "id": "RaBSHderTLZN"
      }
    },
    {
      "cell_type": "code",
      "source": [
        "# Scatter plot con tres variables: tamaño del motor, precio y tipo de combustible\n",
        "plt.figure(figsize=(12, 8))\n",
        "sns.scatterplot(x='engineSize', y='price', hue='fuelType', data=df_cars, alpha=0.7)\n",
        "plt.title('Relación entre Tamaño del Motor, Precio y Tipo de Combustible')\n",
        "plt.xlabel('Tamaño del Motor')\n",
        "plt.ylabel('Precio')\n",
        "plt.grid(True)\n",
        "plt.show()\n",
        "\n",
        "# Bar plot para el precio promedio por tipo de combustible\n",
        "plt.figure(figsize=(10, 6))\n",
        "sns.barplot(x='fuelType', y='price', data=df_cars, estimator=np.mean)\n",
        "plt.title('Precio Promedio según Tipo de Combustible')\n",
        "plt.xlabel('Tipo de Combustible')\n",
        "plt.ylabel('Precio Promedio')\n",
        "plt.show()\n"
      ],
      "metadata": {
        "id": "-HSXkT_bTObC"
      },
      "execution_count": null,
      "outputs": []
    },
    {
      "cell_type": "markdown",
      "source": [
        "Influencia del Tamaño del Motor: los gráficos muestran que los autos con motores más grandes tienden a ser más caros, esto confirmaría que el tamaño del motor es un factor importante en el precio del vehículo.\n",
        "\n",
        "Impacto del Tipo de Combustible: los autos que usan combustible más caro (como diésel) también tienen precios más altos, lo que podría indicar una relación entre el tipo de combustible y el valor percibido del vehículo."
      ],
      "metadata": {
        "id": "9wYZN7ifTiQ4"
      }
    },
    {
      "cell_type": "markdown",
      "source": [
        "Eliminar los primary key"
      ],
      "metadata": {
        "id": "B5jUBcFzlbnE"
      }
    }
  ]
}