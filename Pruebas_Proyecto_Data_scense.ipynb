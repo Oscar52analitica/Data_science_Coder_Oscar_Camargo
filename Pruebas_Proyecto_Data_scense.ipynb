{
  "nbformat": 4,
  "nbformat_minor": 0,
  "metadata": {
    "colab": {
      "provenance": [],
      "authorship_tag": "ABX9TyMhGKJYI529vv9RCWk7ihyQ",
      "include_colab_link": true
    },
    "kernelspec": {
      "name": "python3",
      "display_name": "Python 3"
    },
    "language_info": {
      "name": "python"
    }
  },
  "cells": [
    {
      "cell_type": "markdown",
      "metadata": {
        "id": "view-in-github",
        "colab_type": "text"
      },
      "source": [
        "<a href=\"https://colab.research.google.com/github/Oscar52analitica/Data_science_Coder_Oscar_Camargo/blob/main/Pruebas_Proyecto_Data_scense.ipynb\" target=\"_parent\"><img src=\"https://colab.research.google.com/assets/colab-badge.svg\" alt=\"Open In Colab\"/></a>"
      ]
    },
    {
      "cell_type": "markdown",
      "source": [
        "**Bloque de pruebas, en este entorno se realizaran las pruebas del proyecto para posteriormente poner la version final en VSC  ✅**\n"
      ],
      "metadata": {
        "id": "SlpeMOEkxiFa"
      }
    },
    {
      "cell_type": "markdown",
      "source": [
        "Importación de librerias"
      ],
      "metadata": {
        "id": "7FsRnbgBx2sg"
      }
    },
    {
      "cell_type": "code",
      "source": [
        "import pandas as pd\n",
        "import numpy as np\n",
        "import matplotlib.pyplot as plt\n",
        "import seaborn as sns\n",
        "from sklearn.impute import SimpleImputer\n",
        "import os"
      ],
      "metadata": {
        "id": "UtzUAAT9xuVa"
      },
      "execution_count": 3,
      "outputs": []
    },
    {
      "cell_type": "code",
      "source": [
        "from google.colab import drive\n",
        "drive.mount('/content/drive')"
      ],
      "metadata": {
        "colab": {
          "base_uri": "https://localhost:8080/"
        },
        "id": "tkdUG1yqyXIF",
        "outputId": "f993f4b8-9965-41f3-a50c-5bae32611291"
      },
      "execution_count": 2,
      "outputs": [
        {
          "output_type": "stream",
          "name": "stdout",
          "text": [
            "Mounted at /content/drive\n"
          ]
        }
      ]
    },
    {
      "cell_type": "code",
      "source": [
        "\n",
        "# Cambiar al directorio 'Proyecto_Data_sciense'\n",
        "os.chdir('/content/drive/My Drive/Proyecto_Data_sciense')\n",
        "\n",
        "# Leer el archivo de Excel 'Cars_Database.xlsx'\n",
        "df_cars= pd.read_excel('Cars_Database.xlsx')"
      ],
      "metadata": {
        "id": "yju48MYwzaw5"
      },
      "execution_count": 7,
      "outputs": []
    },
    {
      "cell_type": "markdown",
      "source": [
        "Vamos a empezar con la descripcion del dataframe para conocer su estructura"
      ],
      "metadata": {
        "id": "jCMtiBoxz3ff"
      }
    },
    {
      "cell_type": "code",
      "source": [
        "print(df_cars.info())\n",
        "print(df_cars.describe())\n",
        "print(df_cars.head(10))\n",
        "print(df_cars.tail(10))\n",
        "print(df_cars.columns)"
      ],
      "metadata": {
        "id": "nKOPGdpZz-ZD"
      },
      "execution_count": null,
      "outputs": []
    },
    {
      "cell_type": "markdown",
      "source": [
        "Planteamiento de la hipoteis segun las variables encontradas\n"
      ],
      "metadata": {
        "id": "UqLvQ-4O3XBm"
      }
    },
    {
      "cell_type": "markdown",
      "source": [
        "Relación entre año y precio: ¿Cómo afecta el año de fabricación al precio de los automóviles? Hipótesis: Los autos más nuevos tienden a ser más caros."
      ],
      "metadata": {
        "id": "6Iiz462x3lEV"
      }
    },
    {
      "cell_type": "markdown",
      "source": [
        "Impacto de la transmisión en el precio: ¿Es la transmisión automática más cara que la manual?"
      ],
      "metadata": {
        "id": "jMPVWMT23sAL"
      }
    },
    {
      "cell_type": "markdown",
      "source": [
        "Influencia del tipo de combustible: ¿Los autos que utilizan combustible más eficiente tienen un precio más alto?"
      ],
      "metadata": {
        "id": "BjDeMZMG3xV_"
      }
    },
    {
      "cell_type": "markdown",
      "source": [
        "\n",
        "Costo por milla vs. Años de circulación: ¿Los autos que han circulado más años tienen un costo por milla más bajo?"
      ],
      "metadata": {
        "id": "AB2RvLSB32pq"
      }
    },
    {
      "cell_type": "markdown",
      "source": [
        "Se iniciara conociendo valores estadisticos que permiten conocer medidas para generar graficos y analisis que generen la respuesta de la hipotesis y las preguntas de interes planteadas"
      ],
      "metadata": {
        "id": "MuLdtUeu4How"
      }
    },
    {
      "cell_type": "markdown",
      "source": [
        "Calculos para las columnas\n",
        "Primera columna precio"
      ],
      "metadata": {
        "id": "iZt3E08w4itH"
      }
    },
    {
      "cell_type": "code",
      "source": [
        "media_price = df_cars['price'].mean()\n",
        "print(f'La media es: {media_price}')\n",
        "\n",
        "#Valor minimo\n",
        "min_price=df_cars['price'].min()\n",
        "print(f'el minimo es : {min_price}')\n",
        "\n",
        "#Valor maximo\n",
        "max_price=df_cars['price'].max()\n",
        "print(f'el maximo es: {max_price}')\n",
        "\n",
        "#Desviacion Estandandar\n",
        "desest=df_cars['price'].std()\n",
        "print(f'la desviasion estadar es: {desest}')"
      ],
      "metadata": {
        "id": "7PpF6sao4ENV"
      },
      "execution_count": null,
      "outputs": []
    },
    {
      "cell_type": "markdown",
      "source": [
        "Calulos para la columna tax"
      ],
      "metadata": {
        "id": "ySzRgKAj5CYs"
      }
    },
    {
      "cell_type": "code",
      "source": [
        "media_tax = df_cars['tax'].mean()\n",
        "print(f'La media es: {media_tax}')\n",
        "\n",
        "#Valor minimo\n",
        "min_tax=df_cars['tax'].min()\n",
        "print(f'el minimo es : {min_tax}')\n",
        "\n",
        "#Valor maximo\n",
        "max_tax=df_cars['tax'].max()\n",
        "print(f'el maximo es: {max_tax}')\n",
        "\n",
        "#Desviacion Estandandar\n",
        "desest=df_cars['tax'].std()\n",
        "print(f'la desviasion estadar es :{desest}')"
      ],
      "metadata": {
        "id": "W6hFgleg5mMq"
      },
      "execution_count": null,
      "outputs": []
    },
    {
      "cell_type": "markdown",
      "source": [
        "Calculos para la columna Millas por galon"
      ],
      "metadata": {
        "id": "jWL0ejtd5Lby"
      }
    },
    {
      "cell_type": "code",
      "source": [
        "media_price = df_cars['price'].mean()\n",
        "print(f'La media es: {media_price}')\n",
        "\n",
        "#Valor minimo\n",
        "min_price=df_cars['price'].min()\n",
        "print(f'el minimo es : {min_price}')\n",
        "\n",
        "#Valor maximo\n",
        "max_price=df_cars['price'].max()\n",
        "print(f'el maximo es: {max_price}')\n",
        "\n",
        "#Desviacion Estandandar\n",
        "desest=df_cars['price'].std()\n",
        "print(f'la desviasion estadar es :{desest}')"
      ],
      "metadata": {
        "id": "L09glmIo5m0l"
      },
      "execution_count": null,
      "outputs": []
    },
    {
      "cell_type": "markdown",
      "source": [
        "Calculos para la columna millage"
      ],
      "metadata": {
        "id": "p9W5pGRz4w-T"
      }
    },
    {
      "cell_type": "code",
      "source": [
        "media_price = df_cars['price'].mean()\n",
        "print(f'La media es: {media_price}')\n",
        "\n",
        "#Valor minimo\n",
        "min_price=df_cars['price'].min()\n",
        "print(f'el minimo es : {min_price}')\n",
        "\n",
        "#Valor maximo\n",
        "max_price=df_cars['price'].max()\n",
        "print(f'el maximo es: {max_price}')\n",
        "\n",
        "#Desviacion Estandandar\n",
        "desest=df_cars['price'].std()\n",
        "print(f'la desviasion estadar es :{desest}')"
      ],
      "metadata": {
        "id": "2WiPjxZc5nbW"
      },
      "execution_count": null,
      "outputs": []
    },
    {
      "cell_type": "markdown",
      "source": [
        "Calculos para la columna años de circulacion"
      ],
      "metadata": {
        "id": "p2rJA6Xb5Xlu"
      }
    },
    {
      "cell_type": "code",
      "source": [
        "media_price = df_cars['price'].mean()\n",
        "print(f'La media es: {media_price}')\n",
        "\n",
        "#Valor minimo\n",
        "min_price=df_cars['price'].min()\n",
        "print(f'el minimo es : {min_price}')\n",
        "\n",
        "#Valor maximo\n",
        "max_price=df_cars['price'].max()\n",
        "print(f'el maximo es: {max_price}')\n",
        "\n",
        "#Desviacion Estandandar\n",
        "desest=df_cars['price'].std()\n",
        "print(f'la desviasion estadar es :{desest}')"
      ],
      "metadata": {
        "id": "SnhPb-RY5oHq"
      },
      "execution_count": null,
      "outputs": []
    },
    {
      "cell_type": "markdown",
      "source": [
        "Algunos filtros importantes para conocer aspectos del df_cars"
      ],
      "metadata": {
        "id": "WsNhcpcA6_-n"
      }
    },
    {
      "cell_type": "code",
      "source": [
        "#Promedio de precios por marca\n",
        "precio_por_marca= df_cars.groupby('Make')['price'].mean().sort_values(ascending=False)\n",
        "print(f'El precio promedio por marca es :{precio_por_marca}')\n",
        "\n",
        "# cantidad de autos por marca\n",
        "\n",
        "Cantidad_de_autos_por_marca= df_cars['Make'].value_counts()\n",
        "print(f' la Cantidad_de_autos_por_marca :{Cantidad_de_autos_por_marca}')\n",
        "\n",
        "# cantidad de autos =\n",
        "\n",
        "total_autos= len(df_cars)\n",
        "print(f\"La cantidad total de autos es: {total_autos}\")\n",
        "\n",
        "#Precio Maximo y minimo por marca\n",
        "\n",
        "precio_max_min_por_marca = df_cars.groupby('Make')['price'].agg(['max', 'min'])\n",
        "print(\"Precio máximo y mínimo por marca:\")\n",
        "print(precio_max_min_por_marca)\n",
        "\n"
      ],
      "metadata": {
        "id": "I2nZ7_SP7Iex"
      },
      "execution_count": null,
      "outputs": []
    },
    {
      "cell_type": "markdown",
      "source": [
        "Graficos de las variables encontradas, podemos graficar tanto medidas como dimensiones para conocer las relaciones entre las varaibles del df_cars\n"
      ],
      "metadata": {
        "id": "v9icvmsz732d"
      }
    },
    {
      "cell_type": "code",
      "source": [
        "# Visualización de precios por marca\n",
        "\n",
        "plt.figure(figsize=(10, 6))\n",
        "precio_por_marca.plot(kind='bar', color='skyblue')\n",
        "plt.title('Precio Promedio por Marca')\n",
        "plt.xlabel('Marca')\n",
        "plt.ylabel('Precio Promedio')\n",
        "plt.xticks(rotation=45)\n",
        "plt.show()\n"
      ],
      "metadata": {
        "id": "ThV9IrZm8C8G"
      },
      "execution_count": null,
      "outputs": []
    },
    {
      "cell_type": "code",
      "source": [
        "# Distribución de precios según la transmisión (automática o manual)\n",
        "\n",
        "plt.figure(figsize=(8, 6))\n",
        "sns.boxplot(x='transmission', y='price', data=df_cars, palette='Set2')\n",
        "plt.title('Distribución de Precios según Transmisión')\n",
        "plt.xlabel('Transmisión')\n",
        "plt.ylabel('Precio')\n",
        "plt.show()"
      ],
      "metadata": {
        "id": "V4rP57_B8OIW"
      },
      "execution_count": null,
      "outputs": []
    },
    {
      "cell_type": "code",
      "source": [
        "# Distribución del Precio por Año:\n",
        "\n",
        "plt.figure(figsize=(12, 6))\n",
        "sns.boxplot(x='year', y='price', data=df_cars)\n",
        "plt.title('Distribución del Precio por Año')\n",
        "plt.xlabel('Año')\n",
        "plt.ylabel('Precio')\n",
        "plt.xticks(rotation=45)\n",
        "plt.show()"
      ],
      "metadata": {
        "id": "d09MqIjE8jbr"
      },
      "execution_count": null,
      "outputs": []
    },
    {
      "cell_type": "code",
      "source": [
        "# Precio promedio por año\n",
        "\n",
        "plt.figure(figsize=(14, 8))\n",
        "sns.barplot(x='Make', y='price', data=df_cars, estimator=lambda x: sum(x) / len(x))\n",
        "plt.title('Precio Promedio por Fabricante')\n",
        "plt.xlabel('Fabricante')\n",
        "plt.ylabel('Precio Promedio')\n",
        "plt.xticks(rotation=45)\n",
        "plt.show()"
      ],
      "metadata": {
        "id": "e7HqVySc817L"
      },
      "execution_count": null,
      "outputs": []
    },
    {
      "cell_type": "code",
      "source": [
        "#Relación entre Año y Precio\n",
        "\n",
        "plt.figure(figsize=(12, 6))\n",
        "sns.scatterplot(x='year', y='price', hue='Make', data=df_cars)\n",
        "sns.lineplot(x='year', y='price', hue='Make', data=df_cars, ci=None, estimator='mean', marker='o')\n",
        "plt.title('Relación entre Año y Precio por Fabricante')\n",
        "plt.xlabel('Año')\n",
        "plt.ylabel('Precio')\n",
        "plt.xticks(rotation=45)\n",
        "plt.show()\n"
      ],
      "metadata": {
        "id": "JuQfSzSS9Cb3"
      },
      "execution_count": null,
      "outputs": []
    },
    {
      "cell_type": "code",
      "source": [
        "#  Tendencias de Precio a lo Largo del Tiempo por Fabricante:\n",
        "\n",
        "plt.figure(figsize=(14, 8))\n",
        "sns.lineplot(x='year', y='price', hue='Make', data=df_cars, marker='o')\n",
        "plt.title('Tendencia de Precios a lo Largo del Tiempo por Fabricante')\n",
        "plt.xlabel('Año')\n",
        "plt.ylabel('Precio')\n",
        "plt.xticks(rotation=45)\n",
        "plt.show()\n",
        "\n"
      ],
      "metadata": {
        "id": "vHPJbrv69UtH"
      },
      "execution_count": null,
      "outputs": []
    },
    {
      "cell_type": "markdown",
      "source": [
        "Segun lo visto en clase se puede utilizar la matriz de correlacion para analizar las diferentes variables y conocer como estas se comportan entre si y permiten determinar aspectos para la hipotesis que se plantea"
      ],
      "metadata": {
        "id": "A0mWsa0vDbI0"
      }
    },
    {
      "cell_type": "markdown",
      "source": [
        "para  que el analisis sea completo se deben buscar en las culumnas valores en en cero o en NaN para ello se aplica el codigo visto en clase"
      ],
      "metadata": {
        "id": "jWklxiYyENkU"
      }
    },
    {
      "cell_type": "code",
      "source": [
        "# Ubicar filas con al menos un valor 0 o NaN\n",
        "columnas_cero = (df_cars== 0).any()\n",
        "columnas_nan =  df_cars.isna().any()\n",
        "\n",
        "\n",
        "print(\"Filas con valor 0 o NaN:\")\n",
        "print(columnas_cero)\n",
        "print(columnas_nan)\n"
      ],
      "metadata": {
        "colab": {
          "base_uri": "https://localhost:8080/"
        },
        "id": "PnCe0bD0EU3O",
        "outputId": "6433481f-10a8-4c85-8458-70b367950d24"
      },
      "execution_count": 26,
      "outputs": [
        {
          "output_type": "stream",
          "name": "stdout",
          "text": [
            "Filas con valor 0 o NaN:\n",
            "Primiry_key                                         False\n",
            "model                                               False\n",
            "year                                                False\n",
            "price                                               False\n",
            "transmission                                        False\n",
            "mileage                                             False\n",
            "fuelType                                            False\n",
            "tax                                                  True\n",
            "mpg                                                  True\n",
            "engineSize                                           True\n",
            "Make                                                False\n",
            "Años de circulacion                                 False\n",
            "Costo por milla                                     False\n",
            "Consumo de combustible por año(Millas por galon)     True\n",
            "Tax_Bracket                                         False\n",
            "dtype: bool\n",
            "Primiry_key                                         False\n",
            "model                                               False\n",
            "year                                                False\n",
            "price                                               False\n",
            "transmission                                        False\n",
            "mileage                                             False\n",
            "fuelType                                            False\n",
            "tax                                                 False\n",
            "mpg                                                 False\n",
            "engineSize                                          False\n",
            "Make                                                False\n",
            "Años de circulacion                                 False\n",
            "Costo por milla                                     False\n",
            "Consumo de combustible por año(Millas por galon)     True\n",
            "Tax_Bracket                                         False\n",
            "dtype: bool\n"
          ]
        }
      ]
    },
    {
      "cell_type": "markdown",
      "source": [
        "Columnas a remplazar con la mediana : tax, MG"
      ],
      "metadata": {
        "id": "GujcnMUiE-B_"
      }
    },
    {
      "cell_type": "code",
      "source": [
        "\n",
        "df_cars['tax'] = df_cars['tax'].replace(0, df_cars['tax'].median())\n",
        "print(df_cars['tax'])\n",
        "\n",
        "df_cars['mpg'] = df_cars['mpg'].replace(0, df_cars['mpg'].median())\n",
        "print(df_cars['mpg'])"
      ],
      "metadata": {
        "colab": {
          "base_uri": "https://localhost:8080/"
        },
        "id": "zlmTwo74E9Jr",
        "outputId": "a394bacb-aca2-4dd8-bbf6-7484f428a5e5"
      },
      "execution_count": 40,
      "outputs": [
        {
          "output_type": "stream",
          "name": "stdout",
          "text": [
            "0        150\n",
            "1         20\n",
            "2         30\n",
            "3        145\n",
            "4        145\n",
            "        ... \n",
            "72430    145\n",
            "72431     30\n",
            "72432     20\n",
            "72433    145\n",
            "72434    125\n",
            "Name: tax, Length: 72435, dtype: int64\n",
            "0        55\n",
            "1        64\n",
            "2        55\n",
            "3        67\n",
            "4        50\n",
            "         ..\n",
            "72430    78\n",
            "72431    66\n",
            "72432    60\n",
            "72433    45\n",
            "72434    58\n",
            "Name: mpg, Length: 72435, dtype: int64\n"
          ]
        }
      ]
    },
    {
      "cell_type": "markdown",
      "source": [
        "Para efectos de la hipotesis planteada como principal variable comparativa se tomara el precio"
      ],
      "metadata": {
        "id": "Yf3JO6V_F-XB"
      }
    },
    {
      "cell_type": "code",
      "source": [
        "# Selección de columnas numéricas para la matriz de correlación\n",
        "numeric_columns = ['year', 'price', 'mileage', 'tax', 'mpg', 'engineSize',  'Costo por milla', 'Consumo de combustible por año(Millas por galon)']\n",
        "\n",
        "# Creación de la matriz de correlación\n",
        "correlation_matrix = df_cars[numeric_columns].corr()\n",
        "\n",
        "# Visualización de la matriz de correlación\n",
        "plt.figure(figsize=(10, 8))\n",
        "sns.heatmap(correlation_matrix, annot=True, cmap='coolwarm', fmt=\".2f\")\n",
        "plt.title('Matriz de Correlación')\n",
        "plt.show()\n"
      ],
      "metadata": {
        "id": "wYt31U0hHJ64"
      },
      "execution_count": null,
      "outputs": []
    },
    {
      "cell_type": "markdown",
      "source": [
        "Resultados de la matriz\n",
        "\n",
        "precio y año : 0.52\n",
        "\n",
        "precio y engeniesize: 0.63\n",
        "\n",
        "precio y impuestos: 0.27\n",
        "\n",
        "año y consumo de combustible: -0.75\n",
        "\n",
        "año y millas: -0.75\n",
        "\n",
        "millage y cosnumo por galon: 0.94\n",
        "\n"
      ],
      "metadata": {
        "id": "X1_5bYkwMD_H"
      }
    },
    {
      "cell_type": "markdown",
      "source": [
        "Con los resultados se puede inferir que el precio del auto es mayor si el año del vehiculo es mas reciente al igual que su precio aumenta segun el tamaño del motor y sus impuestos aumentan segun el precio del auto,  en cuanto a consumos si el modelo es resiente el consumo es menor entre mas nuevo se el modelo menos consumo tiene, y se detecto que entre mas millas tenga el vehiculo mayor es el consumo por galon, son datos que son encontrados gracias a la matriz de correlacion\n"
      ],
      "metadata": {
        "id": "2Xyyu_BWRHIH"
      }
    },
    {
      "cell_type": "markdown",
      "source": [
        "Graficos de analisis"
      ],
      "metadata": {
        "id": "XK-QqenISKM7"
      }
    },
    {
      "cell_type": "code",
      "source": [
        "# Gráfico de dispersión\n",
        "plt.figure(figsize=(10, 6))\n",
        "sns.scatterplot(x='year', y='price', data=df_cars, hue='Make', alpha=0.7)\n",
        "plt.title('Relación entre Año y Precio de los Vehículos')\n",
        "plt.xlabel('Año')\n",
        "plt.ylabel('Precio')\n",
        "plt.grid(True)\n",
        "plt.show()\n",
        "\n",
        "# Gráfico de línea\n",
        "plt.figure(figsize=(12, 6))\n",
        "sns.lineplot(x='year', y='price', data=df_cars, ci=None)\n",
        "plt.title('Tendencia de Precios a lo Largo del Tiempo')\n",
        "plt.xlabel('Año')\n",
        "plt.ylabel('Precio Promedio')\n",
        "plt.grid(True)\n",
        "plt.show()"
      ],
      "metadata": {
        "id": "LHcPjpuiSJ5O"
      },
      "execution_count": null,
      "outputs": []
    },
    {
      "cell_type": "markdown",
      "source": [
        "\n",
        "**Resultado**\n",
        "\n",
        "Relación Directa:  los gráficos muestran que los autos más nuevos tienden a tener precios más altos, esto confirmaría la hipótesis de que el año de fabricación es un factor importante en la determinación del precio.\n",
        "Variabilidad por Marca: Al segmentar por marca, podrías descubrir que algunas marcas retienen mejor su valor con el tiempo que otras."
      ],
      "metadata": {
        "id": "Qm_G17EESPs-"
      }
    },
    {
      "cell_type": "markdown",
      "source": [
        "Respecto a los automaticos y manuales:"
      ],
      "metadata": {
        "id": "8jQN0V8jSlRZ"
      }
    },
    {
      "cell_type": "code",
      "source": [
        "# Gráfico de caja (Boxplot)\n",
        "plt.figure(figsize=(10, 6))\n",
        "sns.boxplot(x='transmission', y='price', data=df_cars, palette='Set2')\n",
        "plt.title('Distribución de Precios según Tipo de Transmisión')\n",
        "plt.xlabel('Transmisión')\n",
        "plt.ylabel('Precio')\n",
        "plt.show()\n",
        "\n",
        "# Gráfico de barras (Bar Plot)\n",
        "plt.figure(figsize=(10, 6))\n",
        "sns.barplot(x='transmission', y='price', data=df_cars, estimator=np.mean)\n",
        "plt.title('Precio Promedio según Tipo de Transmisión')\n",
        "plt.xlabel('Transmisión')\n",
        "plt.ylabel('Precio Promedio')\n",
        "plt.show()\n"
      ],
      "metadata": {
        "id": "5Efbq4zMSrHE"
      },
      "execution_count": null,
      "outputs": []
    },
    {
      "cell_type": "markdown",
      "source": [
        "Diferencias de Precio: La transmisión automática muestra precios significativamente más altos, puede concluir que los autos automáticos son percibidos como más valiosos o que su fabricación es más costosa.\n",
        "\n",
        "Distribución de Precios: El boxplot te permitE ver QUE  hay mayor variabilidad en los precios de los autos automáticos en comparación con los manuales."
      ],
      "metadata": {
        "id": "UZJ7oKSySwjj"
      }
    },
    {
      "cell_type": "markdown",
      "source": [
        "Combustible segun el tamaño del motor y precio"
      ],
      "metadata": {
        "id": "RaBSHderTLZN"
      }
    },
    {
      "cell_type": "code",
      "source": [
        "# Scatter plot con tres variables: tamaño del motor, precio y tipo de combustible\n",
        "plt.figure(figsize=(12, 8))\n",
        "sns.scatterplot(x='engineSize', y='price', hue='fuelType', data=df_cars, alpha=0.7)\n",
        "plt.title('Relación entre Tamaño del Motor, Precio y Tipo de Combustible')\n",
        "plt.xlabel('Tamaño del Motor')\n",
        "plt.ylabel('Precio')\n",
        "plt.grid(True)\n",
        "plt.show()\n",
        "\n",
        "# Bar plot para el precio promedio por tipo de combustible\n",
        "plt.figure(figsize=(10, 6))\n",
        "sns.barplot(x='fuelType', y='price', data=df_cars, estimator=np.mean)\n",
        "plt.title('Precio Promedio según Tipo de Combustible')\n",
        "plt.xlabel('Tipo de Combustible')\n",
        "plt.ylabel('Precio Promedio')\n",
        "plt.show()\n"
      ],
      "metadata": {
        "id": "-HSXkT_bTObC"
      },
      "execution_count": null,
      "outputs": []
    },
    {
      "cell_type": "markdown",
      "source": [
        "Influencia del Tamaño del Motor: los gráficos muestran que los autos con motores más grandes tienden a ser más caros, esto confirmaría que el tamaño del motor es un factor importante en el precio del vehículo.\n",
        "\n",
        "Impacto del Tipo de Combustible: los autos que usan combustible más caro (como diésel) también tienen precios más altos, lo que podría indicar una relación entre el tipo de combustible y el valor percibido del vehículo."
      ],
      "metadata": {
        "id": "9wYZN7ifTiQ4"
      }
    }
  ]
}