{
  "nbformat": 4,
  "nbformat_minor": 0,
  "metadata": {
    "colab": {
      "provenance": [],
      "authorship_tag": "ABX9TyPP1UZu0rD3HoXHk5bRvLit",
      "include_colab_link": true
    },
    "kernelspec": {
      "name": "python3",
      "display_name": "Python 3"
    },
    "language_info": {
      "name": "python"
    }
  },
  "cells": [
    {
      "cell_type": "markdown",
      "metadata": {
        "id": "view-in-github",
        "colab_type": "text"
      },
      "source": [
        "<a href=\"https://colab.research.google.com/github/Oscar52analitica/Data_science_Coder_Oscar_Camargo/blob/main/Pruebas_Proyecto_Data_scense.ipynb\" target=\"_parent\"><img src=\"https://colab.research.google.com/assets/colab-badge.svg\" alt=\"Open In Colab\"/></a>"
      ]
    },
    {
      "cell_type": "markdown",
      "source": [
        "**Bloque de pruebas, en este entorno se realizaran las pruebas del proyecto para posteriormente poner la version final en VSC ** ✅\n",
        "\n",
        "**texto en negrita**"
      ],
      "metadata": {
        "id": "SlpeMOEkxiFa"
      }
    },
    {
      "cell_type": "markdown",
      "source": [
        "Importación de librerias"
      ],
      "metadata": {
        "id": "7FsRnbgBx2sg"
      }
    },
    {
      "cell_type": "code",
      "source": [
        "import pandas as pd\n",
        "import numpy as np\n",
        "import matplotlib.pyplot as plt\n",
        "import seaborn as sns\n",
        "from sklearn.impute import SimpleImputer\n",
        "import os"
      ],
      "metadata": {
        "id": "UtzUAAT9xuVa"
      },
      "execution_count": 3,
      "outputs": []
    },
    {
      "cell_type": "code",
      "source": [
        "from google.colab import drive\n",
        "drive.mount('/content/drive')"
      ],
      "metadata": {
        "colab": {
          "base_uri": "https://localhost:8080/"
        },
        "id": "tkdUG1yqyXIF",
        "outputId": "f993f4b8-9965-41f3-a50c-5bae32611291"
      },
      "execution_count": 2,
      "outputs": [
        {
          "output_type": "stream",
          "name": "stdout",
          "text": [
            "Mounted at /content/drive\n"
          ]
        }
      ]
    },
    {
      "cell_type": "code",
      "source": [
        "\n",
        "# Cambiar al directorio 'Proyecto_Data_sciense'\n",
        "os.chdir('/content/drive/My Drive/Proyecto_Data_sciense')\n",
        "\n",
        "# Leer el archivo de Excel 'Cars_Database.xlsx'\n",
        "df_cars= pd.read_excel('Cars_Database.xlsx')"
      ],
      "metadata": {
        "id": "yju48MYwzaw5"
      },
      "execution_count": 7,
      "outputs": []
    },
    {
      "cell_type": "markdown",
      "source": [
        "Vamos a empezar con la descripcion del dataframe para conocer su estructura"
      ],
      "metadata": {
        "id": "jCMtiBoxz3ff"
      }
    },
    {
      "cell_type": "code",
      "source": [
        "print(df_cars.info())\n",
        "print(df_cars.describe())\n",
        "print(df_cars.head(10))\n",
        "print(df_cars.tail(10))\n",
        "print(df_cars.columns)"
      ],
      "metadata": {
        "id": "nKOPGdpZz-ZD"
      },
      "execution_count": null,
      "outputs": []
    },
    {
      "cell_type": "markdown",
      "source": [
        "Planteamiento de la hipoteis segun las variables encontradas\n"
      ],
      "metadata": {
        "id": "UqLvQ-4O3XBm"
      }
    },
    {
      "cell_type": "markdown",
      "source": [
        "Relación entre año y precio: ¿Cómo afecta el año de fabricación al precio de los automóviles? Hipótesis: Los autos más nuevos tienden a ser más caros."
      ],
      "metadata": {
        "id": "6Iiz462x3lEV"
      }
    },
    {
      "cell_type": "markdown",
      "source": [
        "Impacto de la transmisión en el precio: ¿Es la transmisión automática más cara que la manual?"
      ],
      "metadata": {
        "id": "jMPVWMT23sAL"
      }
    },
    {
      "cell_type": "markdown",
      "source": [
        "Influencia del tipo de combustible: ¿Los autos que utilizan combustible más eficiente tienen un precio más alto?"
      ],
      "metadata": {
        "id": "BjDeMZMG3xV_"
      }
    },
    {
      "cell_type": "markdown",
      "source": [
        "\n",
        "Costo por milla vs. Años de circulación: ¿Los autos que han circulado más años tienen un costo por milla más bajo?"
      ],
      "metadata": {
        "id": "AB2RvLSB32pq"
      }
    },
    {
      "cell_type": "markdown",
      "source": [
        "Se iniciara conociendo valores estadisticos que permiten conocer medidas para generar graficos y analisis que generen la respuesta de la hipotesis y las preguntas de interes planteadas"
      ],
      "metadata": {
        "id": "MuLdtUeu4How"
      }
    },
    {
      "cell_type": "markdown",
      "source": [
        "Calculos para las columnas\n",
        "Primera columna precio"
      ],
      "metadata": {
        "id": "iZt3E08w4itH"
      }
    },
    {
      "cell_type": "code",
      "source": [
        "media_price = df_cars['price'].mean()\n",
        "print(f'La media es: {media_price}')\n",
        "\n",
        "#Valor minimo\n",
        "min_price=df_cars['price'].min()\n",
        "print(f'el minimo es : {min_price}')\n",
        "\n",
        "#Valor maximo\n",
        "max_price=df_cars['price'].max()\n",
        "print(f'el maximo es: {max_price}')\n",
        "\n",
        "#Desviacion Estandandar\n",
        "desest=df_cars['price'].std()\n",
        "print(f'la desviasion estadar es: {desest}')"
      ],
      "metadata": {
        "id": "7PpF6sao4ENV"
      },
      "execution_count": null,
      "outputs": []
    },
    {
      "cell_type": "markdown",
      "source": [
        "Calulos para la columna tax"
      ],
      "metadata": {
        "id": "ySzRgKAj5CYs"
      }
    },
    {
      "cell_type": "code",
      "source": [
        "media_tax = df_cars['tax'].mean()\n",
        "print(f'La media es: {media_tax}')\n",
        "\n",
        "#Valor minimo\n",
        "min_tax=df_cars['tax'].min()\n",
        "print(f'el minimo es : {min_tax}')\n",
        "\n",
        "#Valor maximo\n",
        "max_tax=df_cars['tax'].max()\n",
        "print(f'el maximo es: {max_tax}')\n",
        "\n",
        "#Desviacion Estandandar\n",
        "desest=df_cars['tax'].std()\n",
        "print(f'la desviasion estadar es :{desest}')"
      ],
      "metadata": {
        "id": "W6hFgleg5mMq"
      },
      "execution_count": null,
      "outputs": []
    },
    {
      "cell_type": "markdown",
      "source": [
        "Calculos para la columna Millas por galon"
      ],
      "metadata": {
        "id": "jWL0ejtd5Lby"
      }
    },
    {
      "cell_type": "code",
      "source": [
        "media_price = df_cars['price'].mean()\n",
        "print(f'La media es: {media_price}')\n",
        "\n",
        "#Valor minimo\n",
        "min_price=df_cars['price'].min()\n",
        "print(f'el minimo es : {min_price}')\n",
        "\n",
        "#Valor maximo\n",
        "max_price=df_cars['price'].max()\n",
        "print(f'el maximo es: {max_price}')\n",
        "\n",
        "#Desviacion Estandandar\n",
        "desest=df_cars['price'].std()\n",
        "print(f'la desviasion estadar es :{desest}')"
      ],
      "metadata": {
        "id": "L09glmIo5m0l"
      },
      "execution_count": null,
      "outputs": []
    },
    {
      "cell_type": "markdown",
      "source": [
        "Calculos para la columna millage"
      ],
      "metadata": {
        "id": "p9W5pGRz4w-T"
      }
    },
    {
      "cell_type": "code",
      "source": [
        "media_price = df_cars['price'].mean()\n",
        "print(f'La media es: {media_price}')\n",
        "\n",
        "#Valor minimo\n",
        "min_price=df_cars['price'].min()\n",
        "print(f'el minimo es : {min_price}')\n",
        "\n",
        "#Valor maximo\n",
        "max_price=df_cars['price'].max()\n",
        "print(f'el maximo es: {max_price}')\n",
        "\n",
        "#Desviacion Estandandar\n",
        "desest=df_cars['price'].std()\n",
        "print(f'la desviasion estadar es :{desest}')"
      ],
      "metadata": {
        "id": "2WiPjxZc5nbW"
      },
      "execution_count": null,
      "outputs": []
    },
    {
      "cell_type": "markdown",
      "source": [
        "Calculos para la columna años de circulacion"
      ],
      "metadata": {
        "id": "p2rJA6Xb5Xlu"
      }
    },
    {
      "cell_type": "code",
      "source": [
        "media_price = df_cars['price'].mean()\n",
        "print(f'La media es: {media_price}')\n",
        "\n",
        "#Valor minimo\n",
        "min_price=df_cars['price'].min()\n",
        "print(f'el minimo es : {min_price}')\n",
        "\n",
        "#Valor maximo\n",
        "max_price=df_cars['price'].max()\n",
        "print(f'el maximo es: {max_price}')\n",
        "\n",
        "#Desviacion Estandandar\n",
        "desest=df_cars['price'].std()\n",
        "print(f'la desviasion estadar es :{desest}')"
      ],
      "metadata": {
        "id": "SnhPb-RY5oHq"
      },
      "execution_count": null,
      "outputs": []
    }
  ]
}